{
  "nbformat": 4,
  "nbformat_minor": 0,
  "metadata": {
    "colab": {
      "provenance": []
    },
    "kernelspec": {
      "name": "python3",
      "display_name": "Python 3"
    },
    "language_info": {
      "name": "python"
    }
  },
  "cells": [
    {
      "cell_type": "markdown",
      "source": [
        "## Import Libraries"
      ],
      "metadata": {
        "id": "P_5aPdl0dRpx"
      }
    },
    {
      "cell_type": "code",
      "source": [
        "import numpy as np\n",
        "import pandas as pd\n",
        "import matplotlib.pyplot as plt"
      ],
      "metadata": {
        "id": "J6d-RP7adssF"
      },
      "execution_count": null,
      "outputs": []
    },
    {
      "cell_type": "markdown",
      "source": [
        "## Define the domain"
      ],
      "metadata": {
        "id": "CofbnUapdu9J"
      }
    },
    {
      "cell_type": "code",
      "source": [
        "L = 32.0  # Length of the domain\n",
        "nx = 256  # Number of grid points\n",
        "x = np.linspace(0, L, nx, endpoint=False)  # Grid points\n",
        "dx = x[1] - x[0]  # Grid spacing"
      ],
      "metadata": {
        "id": "sDPj8L54dzQm"
      },
      "execution_count": null,
      "outputs": []
    },
    {
      "cell_type": "markdown",
      "source": [
        "## Define the initial condition"
      ],
      "metadata": {
        "id": "5_LKuiExd06v"
      }
    },
    {
      "cell_type": "code",
      "source": [
        "u = np.sin(x/16) + np.sin(x/8)"
      ],
      "metadata": {
        "id": "wb79oycbd3_H"
      },
      "execution_count": null,
      "outputs": []
    },
    {
      "cell_type": "markdown",
      "source": [
        "## Define the model parameters"
      ],
      "metadata": {
        "id": "CqRp_wz7d5jQ"
      }
    },
    {
      "cell_type": "code",
      "source": [
        "nu = 0.1  # Viscosity\n",
        "beta = -1.0  # Dispersion coefficient"
      ],
      "metadata": {
        "id": "wlDzoTvmd8bP"
      },
      "execution_count": null,
      "outputs": []
    },
    {
      "cell_type": "markdown",
      "source": [
        "## Define the time steps and time span"
      ],
      "metadata": {
        "id": "uZ-RrlBGd98v"
      }
    },
    {
      "cell_type": "code",
      "source": [
        "dt = 0.01  # Time step\n",
        "t_max = 100.0  # Maximum simulation time\n",
        "t = np.arange(0, t_max + dt, dt)  # Time array"
      ],
      "metadata": {
        "id": "peQqffK-eA1X"
      },
      "execution_count": null,
      "outputs": []
    },
    {
      "cell_type": "markdown",
      "source": [
        "## Define the wavenumbers"
      ],
      "metadata": {
        "id": "DF4sK7FheCP_"
      }
    },
    {
      "cell_type": "code",
      "source": [
        "k = np.fft.fftfreq(nx, d=dx)  # Wavenumbers\n",
        "k[0] = 1e-6  # Avoid division by zero"
      ],
      "metadata": {
        "id": "fMJSJ8H_eFkn"
      },
      "execution_count": null,
      "outputs": []
    },
    {
      "cell_type": "markdown",
      "source": [
        "## Define the Fourier transform function"
      ],
      "metadata": {
        "id": "deaW8AQSeHQe"
      }
    },
    {
      "cell_type": "code",
      "source": [
        "def fft(f):\n",
        "    return np.fft.fft(f)"
      ],
      "metadata": {
        "id": "5CcoD7jQeKu-"
      },
      "execution_count": null,
      "outputs": []
    },
    {
      "cell_type": "markdown",
      "source": [
        "## Define the inverse Fourier transform function"
      ],
      "metadata": {
        "id": "DbKl8AvDeMJf"
      }
    },
    {
      "cell_type": "code",
      "source": [
        "def ifft(F):\n",
        "    return np.fft.ifft(F)"
      ],
      "metadata": {
        "id": "Px_oBo9rePzH"
      },
      "execution_count": null,
      "outputs": []
    },
    {
      "cell_type": "markdown",
      "source": [
        "## Compute the solution using the Fourier spectral method"
      ],
      "metadata": {
        "id": "k4mImrjueRdn"
      }
    },
    {
      "cell_type": "code",
      "source": [
        "u_hist = np.zeros((len(t), nx))  # Array to store the history of u\n",
        "u_hist[0, :] = u  # Store the initial condition\n",
        "for i in range(1, len(t)):\n",
        "    # Compute the Fourier coefficients\n",
        "    F = fft(u)\n",
        "    F *= np.exp(-nu*k**2*dt)  # Apply viscosity\n",
        "    F += beta*k**2*F*dt  # Apply dispersion\n",
        "    # Compute the solution in physical space\n",
        "    u = np.real(ifft(F))\n",
        "    u_hist[i, :] = u"
      ],
      "metadata": {
        "id": "z0CIe21KeWF3"
      },
      "execution_count": null,
      "outputs": []
    },
    {
      "cell_type": "markdown",
      "source": [
        "## Plot results"
      ],
      "metadata": {
        "id": "ieb6OAEgeYHf"
      }
    },
    {
      "cell_type": "code",
      "source": [
        "fig, ax = plt.subplots()\n",
        "ax.imshow(u_hist, aspect='auto', cmap='jet', extent=[0, L, t_max, 0])\n",
        "ax.set_xlabel('x')\n",
        "ax.set_ylabel('t')\n",
        "plt.show()"
      ],
      "metadata": {
        "colab": {
          "base_uri": "https://localhost:8080/",
          "height": 455
        },
        "id": "sOjL8Tyyeb_X",
        "outputId": "b0c853d6-44de-4537-ec2f-045d1e99a8af"
      },
      "execution_count": null,
      "outputs": [
        {
          "output_type": "display_data",
          "data": {
            "text/plain": [
              "<Figure size 640x480 with 1 Axes>"
            ],
            "image/png": "[encoded data removed]"
          },
          "metadata": {}
        }
      ]
    },
    {
      "cell_type": "markdown",
      "source": [
        "## Create a pandas dataframe from the synthetic data"
      ],
      "metadata": {
        "id": "zG_USmlPecQX"
      }
    },
    {
      "cell_type": "code",
      "source": [
        "df = pd.DataFrame(u_hist, columns=['x{}'.format(i) for i in range(nx)])\n",
        "df['t'] = t"
      ],
      "metadata": {
        "id": "XkN7ndS9e3vX"
      },
      "execution_count": null,
      "outputs": []
    },
    {
      "cell_type": "code",
      "source": [
        "df.head()"
      ],
      "metadata": {
        "colab": {
          "base_uri": "https://localhost:8080/",
          "height": 236
        },
        "id": "TTDpn2abe5vJ",
        "outputId": "a0f74eb5-6512-4f80-daef-f5d39fd7d024"
      },
      "execution_count": null,
      "outputs": [
        {
          "output_type": "execute_result",
          "data": {
            "text/plain": [
              "         x0        x1        x2        x3        x4        x5        x6  \\\n",
              "0  0.000000  0.023437  0.046869  0.070293  0.093704  0.117098  0.140471   \n",
              "1  0.005340  0.022329  0.047314  0.070058  0.093848  0.117000  0.140540   \n",
              "2  0.010152  0.021537  0.047617  0.069900  0.093944  0.116936  0.140586   \n",
              "3  0.014501  0.021013  0.047807  0.069803  0.094002  0.116896  0.140614   \n",
              "4  0.018443  0.020715  0.047910  0.069750  0.094033  0.116875  0.140628   \n",
              "\n",
              "         x7        x8        x9  ...      x247      x248      x249      x250  \\\n",
              "0  0.163817  0.187134  0.210417  ...  0.278571  0.264109  0.249754  0.235509   \n",
              "1  0.163764  0.187175  0.210383  ...  0.278533  0.264163  0.249688  0.235604   \n",
              "2  0.163729  0.187201  0.210361  ...  0.278508  0.264198  0.249646  0.235668   \n",
              "3  0.163707  0.187217  0.210347  ...  0.278494  0.264221  0.249620  0.235708   \n",
              "4  0.163695  0.187225  0.210339  ...  0.278487  0.264234  0.249608  0.235730   \n",
              "\n",
              "       x251      x252      x253      x254      x255     t  \n",
              "0  0.221375  0.207357  0.193457  0.179679  0.166023  0.00  \n",
              "1  0.221239  0.207582  0.193045  0.180684  0.161427  0.01  \n",
              "2  0.221150  0.207733  0.192766  0.181400  0.157339  0.02  \n",
              "3  0.221096  0.207827  0.192592  0.181872  0.153695  0.03  \n",
              "4  0.221068  0.207878  0.192498  0.182140  0.150441  0.04  \n",
              "\n",
              "[5 rows x 257 columns]"
            ],
            "text/html": [
              "\n",
              "  <div id=\"df-3414b4f8-b709-4a7a-8146-39d7a7b1533c\">\n",
              "    <div class=\"colab-df-container\">\n",
              "      <div>\n",
              "<style scoped>\n",
              "    .dataframe tbody tr th:only-of-type {\n",
              "        vertical-align: middle;\n",
              "    }\n",
              "\n",
              "    .dataframe tbody tr th {\n",
              "        vertical-align: top;\n",
              "    }\n",
              "\n",
              "    .dataframe thead th {\n",
              "        text-align: right;\n",
              "    }\n",
              "</style>\n",
              "<table border=\"1\" class=\"dataframe\">\n",
              "  <thead>\n",
              "    <tr style=\"text-align: right;\">\n",
              "      <th></th>\n",
              "      <th>x0</th>\n",
              "      <th>x1</th>\n",
              "      <th>x2</th>\n",
              "      <th>x3</th>\n",
              "      <th>x4</th>\n",
              "      <th>x5</th>\n",
              "      <th>x6</th>\n",
              "      <th>x7</th>\n",
              "      <th>x8</th>\n",
              "      <th>x9</th>\n",
              "      <th>...</th>\n",
              "      <th>x247</th>\n",
              "      <th>x248</th>\n",
              "      <th>x249</th>\n",
              "      <th>x250</th>\n",
              "      <th>x251</th>\n",
              "      <th>x252</th>\n",
              "      <th>x253</th>\n",
              "      <th>x254</th>\n",
              "      <th>x255</th>\n",
              "      <th>t</th>\n",
              "    </tr>\n",
              "  </thead>\n",
              "  <tbody>\n",
              "    <tr>\n",
              "      <th>0</th>\n",
              "      <td>0.000000</td>\n",
              "      <td>0.023437</td>\n",
              "      <td>0.046869</td>\n",
              "      <td>0.070293</td>\n",
              "      <td>0.093704</td>\n",
              "      <td>0.117098</td>\n",
              "      <td>0.140471</td>\n",
              "      <td>0.163817</td>\n",
              "      <td>0.187134</td>\n",
              "      <td>0.210417</td>\n",
              "      <td>...</td>\n",
              "      <td>0.278571</td>\n",
              "      <td>0.264109</td>\n",
              "      <td>0.249754</td>\n",
              "      <td>0.235509</td>\n",
              "      <td>0.221375</td>\n",
              "      <td>0.207357</td>\n",
              "      <td>0.193457</td>\n",
              "      <td>0.179679</td>\n",
              "      <td>0.166023</td>\n",
              "      <td>0.00</td>\n",
              "    </tr>\n",
              "    <tr>\n",
              "      <th>1</th>\n",
              "      <td>0.005340</td>\n",
              "      <td>0.022329</td>\n",
              "      <td>0.047314</td>\n",
              "      <td>0.070058</td>\n",
              "      <td>0.093848</td>\n",
              "      <td>0.117000</td>\n",
              "      <td>0.140540</td>\n",
              "      <td>0.163764</td>\n",
              "      <td>0.187175</td>\n",
              "      <td>0.210383</td>\n",
              "      <td>...</td>\n",
              "      <td>0.278533</td>\n",
              "      <td>0.264163</td>\n",
              "      <td>0.249688</td>\n",
              "      <td>0.235604</td>\n",
              "      <td>0.221239</td>\n",
              "      <td>0.207582</td>\n",
              "      <td>0.193045</td>\n",
              "      <td>0.180684</td>\n",
              "      <td>0.161427</td>\n",
              "      <td>0.01</td>\n",
              "    </tr>\n",
              "    <tr>\n",
              "      <th>2</th>\n",
              "      <td>0.010152</td>\n",
              "      <td>0.021537</td>\n",
              "      <td>0.047617</td>\n",
              "      <td>0.069900</td>\n",
              "      <td>0.093944</td>\n",
              "      <td>0.116936</td>\n",
              "      <td>0.140586</td>\n",
              "      <td>0.163729</td>\n",
              "      <td>0.187201</td>\n",
              "      <td>0.210361</td>\n",
              "      <td>...</td>\n",
              "      <td>0.278508</td>\n",
              "      <td>0.264198</td>\n",
              "      <td>0.249646</td>\n",
              "      <td>0.235668</td>\n",
              "      <td>0.221150</td>\n",
              "      <td>0.207733</td>\n",
              "      <td>0.192766</td>\n",
              "      <td>0.181400</td>\n",
              "      <td>0.157339</td>\n",
              "      <td>0.02</td>\n",
              "    </tr>\n",
              "    <tr>\n",
              "      <th>3</th>\n",
              "      <td>0.014501</td>\n",
              "      <td>0.021013</td>\n",
              "      <td>0.047807</td>\n",
              "      <td>0.069803</td>\n",
              "      <td>0.094002</td>\n",
              "      <td>0.116896</td>\n",
              "      <td>0.140614</td>\n",
              "      <td>0.163707</td>\n",
              "      <td>0.187217</td>\n",
              "      <td>0.210347</td>\n",
              "      <td>...</td>\n",
              "      <td>0.278494</td>\n",
              "      <td>0.264221</td>\n",
              "      <td>0.249620</td>\n",
              "      <td>0.235708</td>\n",
              "      <td>0.221096</td>\n",
              "      <td>0.207827</td>\n",
              "      <td>0.192592</td>\n",
              "      <td>0.181872</td>\n",
              "      <td>0.153695</td>\n",
              "      <td>0.03</td>\n",
              "    </tr>\n",
              "    <tr>\n",
              "      <th>4</th>\n",
              "      <td>0.018443</td>\n",
              "      <td>0.020715</td>\n",
              "      <td>0.047910</td>\n",
              "      <td>0.069750</td>\n",
              "      <td>0.094033</td>\n",
              "      <td>0.116875</td>\n",
              "      <td>0.140628</td>\n",
              "      <td>0.163695</td>\n",
              "      <td>0.187225</td>\n",
              "      <td>0.210339</td>\n",
              "      <td>...</td>\n",
              "      <td>0.278487</td>\n",
              "      <td>0.264234</td>\n",
              "      <td>0.249608</td>\n",
              "      <td>0.235730</td>\n",
              "      <td>0.221068</td>\n",
              "      <td>0.207878</td>\n",
              "      <td>0.192498</td>\n",
              "      <td>0.182140</td>\n",
              "      <td>0.150441</td>\n",
              "      <td>0.04</td>\n",
              "    </tr>\n",
              "  </tbody>\n",
              "</table>\n",
              "<p>5 rows × 257 columns</p>\n",
              "</div>\n",
              "      <button class=\"colab-df-convert\" onclick=\"convertToInteractive('df-3414b4f8-b709-4a7a-8146-39d7a7b1533c')\"\n",
              "              title=\"Convert this dataframe to an interactive table.\"\n",
              "              style=\"display:none;\">\n",
              "        \n",
              "  <svg xmlns=\"http://www.w3.org/2000/svg\" height=\"24px\"viewBox=\"0 0 24 24\"\n",
              "       width=\"24px\">\n",
              "    <path d=\"M0 0h24v24H0V0z\" fill=\"none\"/>\n",
              "    <path d=\"M18.56 5.44l.94 2.06.94-2.06 2.06-.94-2.06-.94-.94-2.06-.94 2.06-2.06.94zm-11 1L8.5 8.5l.94-2.06 2.06-.94-2.06-.94L8.5 2.5l-.94 2.06-2.06.94zm10 10l.94 2.06.94-2.06 2.06-.94-2.06-.94-.94-2.06-.94 2.06-2.06.94z\"/><path d=\"M17.41 7.96l-1.37-1.37c-.4-.4-.92-.59-1.43-.59-.52 0-1.04.2-1.43.59L10.3 9.45l-7.72 7.72c-.78.78-.78 2.05 0 2.83L4 21.41c.39.39.9.59 1.41.59.51 0 1.02-.2 1.41-.59l7.78-7.78 2.81-2.81c.8-.78.8-2.07 0-2.86zM5.41 20L4 18.59l7.72-7.72 1.47 1.35L5.41 20z\"/>\n",
              "  </svg>\n",
              "      </button>\n",
              "      \n",
              "  <style>\n",
              "    .colab-df-container {\n",
              "      display:flex;\n",
              "      flex-wrap:wrap;\n",
              "      gap: 12px;\n",
              "    }\n",
              "\n",
              "    .colab-df-convert {\n",
              "      background-color: #E8F0FE;\n",
              "      border: none;\n",
              "      border-radius: 50%;\n",
              "      cursor: pointer;\n",
              "      display: none;\n",
              "      fill: #1967D2;\n",
              "      height: 32px;\n",
              "      padding: 0 0 0 0;\n",
              "      width: 32px;\n",
              "    }\n",
              "\n",
              "    .colab-df-convert:hover {\n",
              "      background-color: #E2EBFA;\n",
              "      box-shadow: 0px 1px 2px rgba(60, 64, 67, 0.3), 0px 1px 3px 1px rgba(60, 64, 67, 0.15);\n",
              "      fill: #174EA6;\n",
              "    }\n",
              "\n",
              "    [theme=dark] .colab-df-convert {\n",
              "      background-color: #3B4455;\n",
              "      fill: #D2E3FC;\n",
              "    }\n",
              "\n",
              "    [theme=dark] .colab-df-convert:hover {\n",
              "      background-color: #434B5C;\n",
              "      box-shadow: 0px 1px 3px 1px rgba(0, 0, 0, 0.15);\n",
              "      filter: drop-shadow(0px 1px 2px rgba(0, 0, 0, 0.3));\n",
              "      fill: #FFFFFF;\n",
              "    }\n",
              "  </style>\n",
              "\n",
              "      <script>\n",
              "        const buttonEl =\n",
              "          document.querySelector('#df-3414b4f8-b709-4a7a-8146-39d7a7b1533c button.colab-df-convert');\n",
              "        buttonEl.style.display =\n",
              "          google.colab.kernel.accessAllowed ? 'block' : 'none';\n",
              "\n",
              "        async function convertToInteractive(key) {\n",
              "          const element = document.querySelector('#df-3414b4f8-b709-4a7a-8146-39d7a7b1533c');\n",
              "          const dataTable =\n",
              "            await google.colab.kernel.invokeFunction('convertToInteractive',\n",
              "                                                     [key], {});\n",
              "          if (!dataTable) return;\n",
              "\n",
              "          const docLinkHtml = 'Like what you see? Visit the ' +\n",
              "            '<a target=\"_blank\" href=https://colab.research.google.com/notebooks/data_table.ipynb>data table notebook</a>'\n",
              "            + ' to learn more about interactive tables.';\n",
              "          element.innerHTML = '';\n",
              "          dataTable['output_type'] = 'display_data';\n",
              "          await google.colab.output.renderOutput(dataTable, element);\n",
              "          const docLink = document.createElement('div');\n",
              "          docLink.innerHTML = docLinkHtml;\n",
              "          element.appendChild(docLink);\n",
              "        }\n",
              "      </script>\n",
              "    </div>\n",
              "  </div>\n",
              "  "
            ]
          },
          "metadata": {},
          "execution_count": 24
        }
      ]
    },
    {
      "cell_type": "code",
      "source": [],
      "metadata": {
        "id": "IFr4cjNqe6mo"
      },
      "execution_count": null,
      "outputs": []
    }
  ]
}